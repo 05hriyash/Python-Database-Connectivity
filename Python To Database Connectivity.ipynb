{
 "cells": [
  {
   "cell_type": "code",
   "execution_count": null,
   "id": "7f66e5aa",
   "metadata": {},
   "outputs": [],
   "source": [
    "\"\"\"\n",
    "Created on Mon May  8 15:27:03 2023\n",
    "\n",
    "@author: cdacstaff\n",
    "\"\"\"\n",
    "import mysql.connector\n",
    "\n",
    "cnx = mysql.connector.connect(user='root', \n",
    "                              password='root123',\n",
    "                              host='127.0.0.1',\n",
    "                              database='mytrial')\n",
    "cur = cnx.cursor()"
   ]
  },
  {
   "cell_type": "code",
   "execution_count": null,
   "id": "bc94dbc7",
   "metadata": {},
   "outputs": [],
   "source": [
    "#Creating Table student\n",
    "\n",
    "cur.execute(\"\"\"CREATE TABLE student( \n",
    "            roll_no INT, \n",
    "            subid varchar(10), \n",
    "            marks INT);\"\"\")\n",
    "cnx.commit()\n",
    "cnx.close()"
   ]
  },
  {
   "cell_type": "code",
   "execution_count": null,
   "id": "5228bdda",
   "metadata": {},
   "outputs": [],
   "source": [
    "\n",
    "records=[[1,'sub1',34],\n",
    "         [2,'sub1',30],\n",
    "         [3,'sub1',23],\n",
    "         [1,'sub2',23],\n",
    "        [2,'sub2',26],\n",
    "        [3,'sub2',30],\n",
    "        [1,'sub3',30],\n",
    "        [2,'sub3',30],\n",
    "        [3,'sub3',27],\n",
    "    ]"
   ]
  },
  {
   "cell_type": "code",
   "execution_count": null,
   "id": "463d801e",
   "metadata": {},
   "outputs": [],
   "source": [
    "for rno, sub, marks in records:\n",
    "    query = \"insert into student values(\" +\\\n",
    "                str(rno)+\",\"+\\\n",
    "                repr(sub) + \",\"+\\\n",
    "                str(marks)+\");\"\n",
    "    print(query)\n",
    "    cur.execute(query)\n",
    "\n",
    "cnx.commit()\n",
    "cnx.close()"
   ]
  },
  {
   "cell_type": "code",
   "execution_count": null,
   "id": "c8887ae0",
   "metadata": {},
   "outputs": [],
   "source": [
    "cnx = mysql.connector.connect(user='root', \n",
    "                              password='root123',\n",
    "                              host='127.0.0.1',\n",
    "                              database='mytrial')\n",
    "cur = cnx.cursor()\n",
    "cur.execute(\"select * from student\")\n",
    "\n",
    "for row in cur:\n",
    "    print(row)\n",
    "\n",
    "\n",
    "cnx.close()"
   ]
  }
 ],
 "metadata": {
  "kernelspec": {
   "display_name": "Python 3 (ipykernel)",
   "language": "python",
   "name": "python3"
  },
  "language_info": {
   "codemirror_mode": {
    "name": "ipython",
    "version": 3
   },
   "file_extension": ".py",
   "mimetype": "text/x-python",
   "name": "python",
   "nbconvert_exporter": "python",
   "pygments_lexer": "ipython3",
   "version": "3.11.4"
  }
 },
 "nbformat": 4,
 "nbformat_minor": 5
}
